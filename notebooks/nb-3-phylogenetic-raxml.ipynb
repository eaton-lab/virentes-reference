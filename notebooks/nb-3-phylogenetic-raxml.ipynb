{
 "cells": [
  {
   "cell_type": "markdown",
   "metadata": {},
   "source": [
    "# Notebook 3: RAxML phylogenetic inference\n",
    "\n",
    "..."
   ]
  },
  {
   "cell_type": "code",
   "execution_count": 1,
   "metadata": {},
   "outputs": [],
   "source": [
    "# conda install ipyrad -c ipyrad\n",
    "# conda install raxml -c bioconda"
   ]
  },
  {
   "cell_type": "code",
   "execution_count": 8,
   "metadata": {},
   "outputs": [],
   "source": [
    "import ipyrad.analysis as ipa\n",
    "import ipyparallel as ipp"
   ]
  },
  {
   "cell_type": "code",
   "execution_count": 9,
   "metadata": {},
   "outputs": [
    {
     "data": {
      "text/plain": [
       "'0.8.0-dev'"
      ]
     },
     "execution_count": 9,
     "metadata": {},
     "output_type": "execute_result"
    }
   ],
   "source": [
    "ipa.__version__"
   ]
  },
  {
   "cell_type": "markdown",
   "metadata": {},
   "source": [
    "### Connect to parallel client"
   ]
  },
  {
   "cell_type": "code",
   "execution_count": 10,
   "metadata": {},
   "outputs": [],
   "source": [
    "ipyclient = ipp.Client()"
   ]
  },
  {
   "cell_type": "markdown",
   "metadata": {},
   "source": [
    "### RAxML inference for denovo min4 data set"
   ]
  },
  {
   "cell_type": "code",
   "execution_count": null,
   "metadata": {},
   "outputs": [
    {
     "name": "stdout",
     "output_type": "stream",
     "text": [
      "raxmlHPC-PTHREADS-SSE3 -f a -T 40 -m GTRGAMMA -N 100 -x 12345 -p 54321 -n denovo-min4 -w /home/deren/Documents/virentes-reference/notebooks/analysis-raxml -s /home/deren/Documents/virentes-reference/analysis-ipyrad/denovo_outfiles/denovo.phy -o NI,HE\n"
     ]
    }
   ],
   "source": [
    "# init raxml analysis object\n",
    "rax = ipa.raxml(\n",
    "    name=\"denovo-min4\",\n",
    "    data=\"../analysis-ipyrad/denovo_outfiles/denovo.phy\", \n",
    "    T=40,\n",
    "    o=[\"NI\", \"HE\"],\n",
    ")\n",
    "\n",
    "# print raxml command string\n",
    "print(rax.command)\n",
    "\n",
    "# run raxml inference\n",
    "rax.run()"
   ]
  },
  {
   "cell_type": "code",
   "execution_count": null,
   "metadata": {},
   "outputs": [],
   "source": [
    "# init raxml analysis object\n",
    "rax = ipa.raxml(\n",
    "    name=\"reference-min4\",\n",
    "    data=\"../analysis-ipyrad/reference_outfiles/reference.phy\", \n",
    "    T=40,\n",
    "    o=[\"NI\", \"HE\"],\n",
    ")\n",
    "\n",
    "# print raxml command string\n",
    "print(rax.command)\n",
    "\n",
    "# run raxml inference\n",
    "rax.run()"
   ]
  },
  {
   "cell_type": "markdown",
   "metadata": {},
   "source": [
    "### Plot trees"
   ]
  },
  {
   "cell_type": "code",
   "execution_count": null,
   "metadata": {},
   "outputs": [],
   "source": [
    "# ..."
   ]
  }
 ],
 "metadata": {
  "kernelspec": {
   "display_name": "Python 3",
   "language": "python",
   "name": "python3"
  },
  "language_info": {
   "codemirror_mode": {
    "name": "ipython",
    "version": 3
   },
   "file_extension": ".py",
   "mimetype": "text/x-python",
   "name": "python",
   "nbconvert_exporter": "python",
   "pygments_lexer": "ipython3",
   "version": "3.6.5"
  }
 },
 "nbformat": 4,
 "nbformat_minor": 2
}
