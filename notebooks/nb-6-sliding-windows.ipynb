{
 "cells": [
  {
   "cell_type": "markdown",
   "metadata": {},
   "source": [
    "# Notebook 6: Sliding window tree inference\n"
   ]
  },
  {
   "cell_type": "code",
   "execution_count": 3,
   "metadata": {},
   "outputs": [],
   "source": [
    "# conda install ipyrad -c ipyrad\n",
    "# conda install raxml -c bioconda\n",
    "# conda install toytree -c eaton-lab"
   ]
  },
  {
   "cell_type": "code",
   "execution_count": 5,
   "metadata": {},
   "outputs": [],
   "source": [
    "import ipyrad.analysis as ipa\n",
    "import ipyparallel as ipp"
   ]
  },
  {
   "cell_type": "code",
   "execution_count": 6,
   "metadata": {},
   "outputs": [
    {
     "name": "stdout",
     "output_type": "stream",
     "text": [
      "ipyrad 0.8.0-dev\n",
      "toytree 0.1.21\n"
     ]
    }
   ],
   "source": [
    "print('ipyrad', ipa.__version__)\n",
    "print('toytree', toytree.__version__)"
   ]
  },
  {
   "cell_type": "markdown",
   "metadata": {},
   "source": [
    "### Connect to parallel client"
   ]
  },
  {
   "cell_type": "code",
   "execution_count": 8,
   "metadata": {},
   "outputs": [],
   "source": [
    "ipyclient = ipp.Client(cluster_id=\"alternate\")"
   ]
  },
  {
   "cell_type": "code",
   "execution_count": null,
   "metadata": {},
   "outputs": [
    {
     "name": "stdout",
     "output_type": "stream",
     "text": [
      "[##                  ]  12% 0:46:16 | inferring raxml trees _Chr01;"
     ]
    }
   ],
   "source": [
    "for chromidx in range(13):\n",
    "    \n",
    "    # init a treeslider object of database file\n",
    "    ts = ipa.treeslider(\n",
    "        workdir=\"../analysis-treeslider\",\n",
    "        data=\"../analysis-ipyrad/rtest_outfiles/rtest.seqs.hdf5\",\n",
    "        minsnps=5,\n",
    "    )\n",
    "    \n",
    "    # run tree inference\n",
    "    ts.run(\n",
    "        scaffold_idx=chromidx,\n",
    "        window_size=100000,\n",
    "        slide_size=20000,\n",
    "        ipyclient=ipyclient,\n",
    "    )"
   ]
  },
  {
   "cell_type": "markdown",
   "metadata": {},
   "source": [
    "### Example output tree table"
   ]
  },
  {
   "cell_type": "code",
   "execution_count": null,
   "metadata": {},
   "outputs": [],
   "source": [
    "ts.tree_table.head(50)"
   ]
  }
 ],
 "metadata": {
  "kernelspec": {
   "display_name": "Python 3",
   "language": "python",
   "name": "python3"
  },
  "language_info": {
   "codemirror_mode": {
    "name": "ipython",
    "version": 3
   },
   "file_extension": ".py",
   "mimetype": "text/x-python",
   "name": "python",
   "nbconvert_exporter": "python",
   "pygments_lexer": "ipython3",
   "version": "3.6.5"
  }
 },
 "nbformat": 4,
 "nbformat_minor": 2
}
