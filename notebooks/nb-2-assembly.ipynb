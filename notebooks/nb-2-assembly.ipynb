{
 "cells": [
  {
   "cell_type": "markdown",
   "metadata": {},
   "source": [
    "# Notebook 2: Assemble RAD-seq data sets\n",
    "\n",
    "See Notebook 1 for code to download the fastq data files. In this notebook we merge technical replicate samples into individual samples and then assemble RAD-seq data sets using both a denovo assembly method and a reference-based assembly method in *ipyrad*. "
   ]
  },
  {
   "cell_type": "code",
   "execution_count": 1,
   "metadata": {},
   "outputs": [],
   "source": [
    "# conda install ipyrad -c ipyrad"
   ]
  },
  {
   "cell_type": "code",
   "execution_count": 2,
   "metadata": {},
   "outputs": [],
   "source": [
    "import os\n",
    "import ipyrad as ip\n",
    "import ipyparallel as ipp"
   ]
  },
  {
   "cell_type": "code",
   "execution_count": 3,
   "metadata": {},
   "outputs": [
    {
     "data": {
      "text/plain": [
       "'0.8.0-dev'"
      ]
     },
     "execution_count": 3,
     "metadata": {},
     "output_type": "execute_result"
    }
   ],
   "source": [
    "ip.__version__"
   ]
  },
  {
   "cell_type": "markdown",
   "metadata": {},
   "source": [
    "### Connect to parallel client"
   ]
  },
  {
   "cell_type": "code",
   "execution_count": 19,
   "metadata": {},
   "outputs": [],
   "source": [
    "ipyclient = ipp.Client()"
   ]
  },
  {
   "cell_type": "markdown",
   "metadata": {},
   "source": [
    "### Assemble Step 1: Load fastq data and merge technical replicate samples"
   ]
  },
  {
   "cell_type": "code",
   "execution_count": 5,
   "metadata": {},
   "outputs": [
    {
     "data": {
      "text/plain": [
       "'/home/deren/Documents/virentes-reference/analysis-ipyrad'"
      ]
     },
     "execution_count": 5,
     "metadata": {},
     "output_type": "execute_result"
    }
   ],
   "source": [
    "WORKDIR = os.path.realpath(\"../analysis-ipyrad\")\n",
    "WORKDIR"
   ]
  },
  {
   "cell_type": "code",
   "execution_count": 21,
   "metadata": {},
   "outputs": [
    {
     "name": "stdout",
     "output_type": "stream",
     "text": [
      "New Assembly: lib1\n",
      "Assembly: lib1\n",
      "[####################] 100% 0:00:19 | loading reads        | s1 |\n"
     ]
    }
   ],
   "source": [
    "# load the first RAD-seq library\n",
    "lib1 = ip.Assembly(\"lib1\")\n",
    "lib1.set_params(\"sorted_fastq_path\", \"../rawdata/radseq/*_v_*.fastq.gz\")\n",
    "lib1.set_params(\"project_dir\", WORKDIR)\n",
    "lib1.run(\"1\")"
   ]
  },
  {
   "cell_type": "code",
   "execution_count": 20,
   "metadata": {},
   "outputs": [
    {
     "name": "stdout",
     "output_type": "stream",
     "text": [
      "New Assembly: lib2\n",
      "Assembly: lib2\n",
      "[####################] 100% 0:00:24 | loading reads        | s1 |\n"
     ]
    }
   ],
   "source": [
    "# load the 'replicates' library\n",
    "lib2 = ip.Assembly(\"lib2\")\n",
    "lib2.set_params(\"sorted_fastq_path\", \"../rawdata/radseq/*_re_*.fastq.gz\")\n",
    "lib2.set_params(\"project_dir\", WORKDIR)\n",
    "lib2.run(\"1\")"
   ]
  },
  {
   "cell_type": "markdown",
   "metadata": {},
   "source": [
    "#### Merge technical replicates "
   ]
  },
  {
   "cell_type": "code",
   "execution_count": 44,
   "metadata": {},
   "outputs": [],
   "source": [
    "# rename sample dict keys in each library by removing the _v or _re ending in names\n",
    "lib1.samples = {name.split(\"_\")[0]:sample for (name, sample) in lib1.samples.items()}\n",
    "lib2.samples = {name.split(\"_\")[0]:sample for (name, sample) in lib2.samples.items()}\n",
    "\n",
    "# rename .name attribute of sample objects in the same way\n",
    "for sample in lib1.samples.values():\n",
    "    sample.name = sample.name.split(\"_\")[0] \n",
    "for sample in lib2.samples.values():\n",
    "    sample.name = sample.name.split(\"_\")[0]     "
   ]
  },
  {
   "cell_type": "code",
   "execution_count": 45,
   "metadata": {},
   "outputs": [
    {
     "data": {
      "text/plain": [
       "{'BJSL25', 'BJVL19', 'CRL0001', 'CRL0030', 'FLAB109', 'FLBA140', 'FLSF54'}"
      ]
     },
     "execution_count": 45,
     "metadata": {},
     "output_type": "execute_result"
    }
   ],
   "source": [
    "# which sample names match between libraries (and will be merged)?\n",
    "set(lib1.samples).intersection(set(lib2.samples))"
   ]
  },
  {
   "cell_type": "code",
   "execution_count": 46,
   "metadata": {},
   "outputs": [],
   "source": [
    "# merge libraries (merges samples with the same sample name)\n",
    "libmerge = ip.merge(\"libmerge\", (lib1, lib2))"
   ]
  },
  {
   "cell_type": "markdown",
   "metadata": {},
   "source": [
    "### Assemble Step 2: Filter reads "
   ]
  },
  {
   "cell_type": "code",
   "execution_count": 48,
   "metadata": {},
   "outputs": [
    {
     "name": "stdout",
     "output_type": "stream",
     "text": [
      "Assembly: libmerge\n",
      "[####################] 100% 0:00:00 | concatenating inputs | s2 |\n",
      "[####################] 100% 0:03:33 | processing reads     | s2 |\n"
     ]
    }
   ],
   "source": [
    "libmerge.set_params(\"filter_adapters\", 2)\n",
    "libmerge.run(\"2\", ipyclient=ipyclient)"
   ]
  },
  {
   "cell_type": "code",
   "execution_count": 17,
   "metadata": {},
   "outputs": [
    {
     "data": {
      "text/html": [
       "<div>\n",
       "<style scoped>\n",
       "    .dataframe tbody tr th:only-of-type {\n",
       "        vertical-align: middle;\n",
       "    }\n",
       "\n",
       "    .dataframe tbody tr th {\n",
       "        vertical-align: top;\n",
       "    }\n",
       "\n",
       "    .dataframe thead th {\n",
       "        text-align: right;\n",
       "    }\n",
       "</style>\n",
       "<table border=\"1\" class=\"dataframe\">\n",
       "  <thead>\n",
       "    <tr style=\"text-align: right;\">\n",
       "      <th></th>\n",
       "      <th>state</th>\n",
       "      <th>reads_raw</th>\n",
       "      <th>reads_passed_filter</th>\n",
       "    </tr>\n",
       "  </thead>\n",
       "  <tbody>\n",
       "    <tr>\n",
       "      <th>AR</th>\n",
       "      <td>2</td>\n",
       "      <td>4046890</td>\n",
       "      <td>4029027</td>\n",
       "    </tr>\n",
       "    <tr>\n",
       "      <th>BJSB3</th>\n",
       "      <td>2</td>\n",
       "      <td>931926</td>\n",
       "      <td>925265</td>\n",
       "    </tr>\n",
       "    <tr>\n",
       "      <th>BJSL25</th>\n",
       "      <td>2</td>\n",
       "      <td>6322202</td>\n",
       "      <td>6285975</td>\n",
       "    </tr>\n",
       "    <tr>\n",
       "      <th>BJVL19</th>\n",
       "      <td>2</td>\n",
       "      <td>5533067</td>\n",
       "      <td>5506835</td>\n",
       "    </tr>\n",
       "    <tr>\n",
       "      <th>BZBB1</th>\n",
       "      <td>2</td>\n",
       "      <td>849191</td>\n",
       "      <td>843394</td>\n",
       "    </tr>\n",
       "  </tbody>\n",
       "</table>\n",
       "</div>"
      ],
      "text/plain": [
       "        state  reads_raw  reads_passed_filter\n",
       "AR          2    4046890              4029027\n",
       "BJSB3       2     931926               925265\n",
       "BJSL25      2    6322202              6285975\n",
       "BJVL19      2    5533067              5506835\n",
       "BZBB1       2     849191               843394"
      ]
     },
     "execution_count": 17,
     "metadata": {},
     "output_type": "execute_result"
    }
   ],
   "source": [
    "# show N raw reads per sample after merging technical replicates\n",
    "libmerge.stats.head()"
   ]
  },
  {
   "cell_type": "markdown",
   "metadata": {},
   "source": [
    "### Assemble Steps 3-7: Branch to assemble denovo data set\n"
   ]
  },
  {
   "cell_type": "code",
   "execution_count": 8,
   "metadata": {},
   "outputs": [
    {
     "name": "stdout",
     "output_type": "stream",
     "text": [
      "0   assembly_name               denovo                                       \n",
      "1   project_dir                 /home/deren/Documents/virentes-reference/analysis-ipyrad\n",
      "2   raw_fastq_path                                                           \n",
      "3   barcodes_path               Merged: lib1, lib2                           \n",
      "4   sorted_fastq_path                                                        \n",
      "5   assembly_method             denovo                                       \n",
      "6   reference_sequence                                                       \n",
      "7   datatype                    rad                                          \n",
      "8   restriction_overhang        ('TGCAG', '')                                \n",
      "9   max_low_qual_bases          5                                            \n",
      "10  phred_Qscore_offset         33                                           \n",
      "11  mindepth_statistical        6                                            \n",
      "12  mindepth_majrule            6                                            \n",
      "13  maxdepth                    10000                                        \n",
      "14  clust_threshold             0.85                                         \n",
      "15  max_barcode_mismatch        0                                            \n",
      "16  filter_adapters             2                                            \n",
      "17  filter_min_trim_len         35                                           \n",
      "18  max_alleles_consens         2                                            \n",
      "19  max_Ns_consens              (5, 5)                                       \n",
      "20  max_Hs_consens              (8, 8)                                       \n",
      "21  min_samples_locus           4                                            \n",
      "22  max_SNPs_locus              (20, 20)                                     \n",
      "23  max_Indels_locus            (8, 8)                                       \n",
      "24  max_shared_Hs_locus         0.5                                          \n",
      "25  trim_reads                  (0, 0, 0, 0)                                 \n",
      "26  trim_loci                   (0, 5, 0, 0)                                 \n",
      "27  output_formats              ['l', 'p', 's', 'n', 'k', 'a', 'g', 'G', 'u', 'v', 't', 'm']\n",
      "28  pop_assign_file                                                          \n"
     ]
    }
   ],
   "source": [
    "# create denovo branch and set params for assembly\n",
    "denovo = libmerge.branch(\"denovo\")\n",
    "denovo.set_params(\"trim_loci\", (0, 5, 0, 0))\n",
    "denovo.set_params(\"output_formats\", \"*\")\n",
    "denovo.get_params()"
   ]
  },
  {
   "cell_type": "code",
   "execution_count": 10,
   "metadata": {},
   "outputs": [
    {
     "name": "stdout",
     "output_type": "stream",
     "text": [
      "Assembly: denovo\n",
      "[####################] 100% 0:00:00 | concatenating        | s3 |\n",
      "[####################] 100% 0:00:19 | dereplicating        | s3 |\n",
      "[####################] 100% 0:04:29 | clustering/mapping   | s3 |\n",
      "[####################] 100% 0:00:04 | building clusters    | s3 |\n",
      "[####################] 100% 0:00:00 | chunking clusters    | s3 |\n",
      "[####################] 100% 0:09:37 | aligning clusters    | s3 |\n",
      "[####################] 100% 0:00:07 | concat clusters      | s3 |\n",
      "[####################] 100% 0:00:03 | calc cluster stats   | s3 |\n",
      "[####################] 100% 0:00:22 | inferring [H, E]     | s4 |\n",
      "[####################] 100% 0:00:03 | calculating depths   | s5 |\n",
      "[####################] 100% 0:00:05 | chunking clusters    | s5 |\n",
      "[####################] 100% 0:07:13 | consens calling      | s5 |\n",
      "[####################] 100% 0:00:15 | indexing alleles     | s5 |\n",
      "[####################] 100% 0:00:15 | concatenating inputs | s6 |\n",
      "[####################] 100% 0:08:03 | clustering tier 1    | s6 |\n",
      "[####################] 100% 0:00:01 | concatenating inputs | s6 |\n",
      "[####################] 100% 0:03:07 | clustering across    | s6 |\n",
      "[####################] 100% 0:00:10 | building clusters    | s6 |\n",
      "[####################] 100% 0:01:46 | aligning clusters    | s6 |\n",
      "[####################] 100% 0:00:13 | applying filters     | s7 |\n",
      "[####################] 100% 0:01:21 | building arrays      | s7 |\n",
      "[####################] 100% 0:00:28 | writing conversions  | s7 |\n",
      "[####################] 100% 0:03:55 | indexing vcf depths  | s7 |\n",
      "[####################] 100% 0:02:59 | writing vcf output   | s7 |\n"
     ]
    }
   ],
   "source": [
    "denovo.run(\"34567\", ipyclient=ipyclient)"
   ]
  },
  {
   "cell_type": "markdown",
   "metadata": {},
   "source": [
    "### Assemble Steps 3-7: Branch to assemble denovo data set\n"
   ]
  },
  {
   "cell_type": "code",
   "execution_count": 15,
   "metadata": {},
   "outputs": [
    {
     "name": "stdout",
     "output_type": "stream",
     "text": [
      "0   assembly_name               reference                                    \n",
      "1   project_dir                 /home/deren/Documents/virentes-reference/analysis-ipyrad\n",
      "2   raw_fastq_path                                                           \n",
      "3   barcodes_path               Merged: lib1, lib2                           \n",
      "4   sorted_fastq_path                                                        \n",
      "5   assembly_method             reference                                    \n",
      "6   reference_sequence          /home/deren/Documents/virentes-reference/rawdata/Qrob_PM1N.fa\n",
      "7   datatype                    rad                                          \n",
      "8   restriction_overhang        ('TGCAG', '')                                \n",
      "9   max_low_qual_bases          5                                            \n",
      "10  phred_Qscore_offset         33                                           \n",
      "11  mindepth_statistical        6                                            \n",
      "12  mindepth_majrule            6                                            \n",
      "13  maxdepth                    10000                                        \n",
      "14  clust_threshold             0.85                                         \n",
      "15  max_barcode_mismatch        0                                            \n",
      "16  filter_adapters             2                                            \n",
      "17  filter_min_trim_len         35                                           \n",
      "18  max_alleles_consens         2                                            \n",
      "19  max_Ns_consens              (5, 5)                                       \n",
      "20  max_Hs_consens              (8, 8)                                       \n",
      "21  min_samples_locus           4                                            \n",
      "22  max_SNPs_locus              (20, 20)                                     \n",
      "23  max_Indels_locus            (8, 8)                                       \n",
      "24  max_shared_Hs_locus         0.5                                          \n",
      "25  trim_reads                  (0, 0, 0, 0)                                 \n",
      "26  trim_loci                   (0, 5, 0, 0)                                 \n",
      "27  output_formats              ['l', 'p', 's', 'n', 'k', 'a', 'g', 'G', 'u', 'v', 't', 'm']\n",
      "28  pop_assign_file                                                          \n"
     ]
    }
   ],
   "source": [
    "# create reference branch and set params for assembly\n",
    "reference = denovo.branch(\"reference\")\n",
    "reference.set_params(\"assembly_method\", \"reference\")\n",
    "reference.set_params(\"reference_sequence\", \"../rawdata/Qrob_PM1N.fa\")\n",
    "reference.get_params()"
   ]
  },
  {
   "cell_type": "code",
   "execution_count": 16,
   "metadata": {},
   "outputs": [
    {
     "name": "stdout",
     "output_type": "stream",
     "text": [
      "Assembly: reference\n",
      "[####################] 100% 0:13:43 | indexing reference   | s3 |\n",
      "[####################] 100% 0:00:00 | concatenating        | s3 |\n",
      "[####################] 100% 0:00:19 | dereplicating        | s3 |\n",
      "[####################] 100% 0:02:04 | mapping reads        | s3 |\n",
      "[####################] 100% 0:01:30 | building clusters    | s3 |\n",
      "[####################] 100% 0:00:02 | calc cluster stats   | s3 |\n",
      "[####################] 100% 0:00:37 | inferring [H, E]     | s4 |\n",
      "[####################] 100% 0:00:02 | calculating depths   | s5 |\n",
      "[####################] 100% 0:00:03 | chunking clusters    | s5 |\n",
      "[####################] 100% 0:08:03 | consens calling      | s5 |\n",
      "[####################] 100% 0:00:18 | indexing alleles     | s5 |\n",
      "[####################] 100% 0:00:17 | concatenating bams   | s6 |\n",
      "[####################] 100% 0:00:05 | fetching regions     | s6 |\n",
      "[####################] 100% 0:00:05 | building loci        | s6 |\n",
      "[####################] 100% 0:00:14 | applying filters     | s7 |\n",
      "[####################] 100% 0:01:33 | building arrays      | s7 |\n",
      "[####################] 100% 0:00:42 | writing conversions  | s7 |\n",
      "[####################] 100% 0:03:01 | indexing vcf depths  | s7 |\n",
      "[####################] 100% 0:02:56 | writing vcf output   | s7 |\n"
     ]
    }
   ],
   "source": [
    "reference.run(\"34567\", ipyclient=ipyclient, force=True)"
   ]
  },
  {
   "cell_type": "markdown",
   "metadata": {},
   "source": [
    "#### assemble min4, min10, and min20 data sets"
   ]
  },
  {
   "cell_type": "code",
   "execution_count": null,
   "metadata": {},
   "outputs": [],
   "source": [
    "# ..."
   ]
  }
 ],
 "metadata": {
  "kernelspec": {
   "display_name": "Python 3",
   "language": "python",
   "name": "python3"
  },
  "language_info": {
   "codemirror_mode": {
    "name": "ipython",
    "version": 3
   },
   "file_extension": ".py",
   "mimetype": "text/x-python",
   "name": "python",
   "nbconvert_exporter": "python",
   "pygments_lexer": "ipython3",
   "version": "3.6.5"
  }
 },
 "nbformat": 4,
 "nbformat_minor": 2
}
